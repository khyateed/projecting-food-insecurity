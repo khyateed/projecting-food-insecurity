{
 "cells": [
  {
   "cell_type": "markdown",
   "metadata": {},
   "source": [
    "# Projecting Food Insecurity Rates in the US by County\n",
    "## Feature Engineering\n",
    "The following process imports a cleaned dataset produced from [cleaning_pt2.ipynb.](notebooks/cleaning_pt2) This notebook is used to produce new features that will be used in the modeling process.\n",
    "### Flatiron School Data Science Capstone<br>By Khyatee Desai"
   ]
  },
  {
   "cell_type": "code",
   "execution_count": 1,
   "metadata": {},
   "outputs": [],
   "source": [
    "# import necessary libraries\n",
    "import pandas as pd\n",
    "import numpy as np\n",
    "from itertools import combinations\n",
    "import sklearn\n",
    "from sklearn.linear_model import LinearRegression\n",
    "pd.set_option('display.max_columns', None)\n",
    "import pickle\n",
    "import warnings\n",
    "warnings.filterwarnings('ignore')"
   ]
  },
  {
   "cell_type": "code",
   "execution_count": 2,
   "metadata": {},
   "outputs": [
    {
     "data": {
      "text/html": [
       "<div>\n",
       "<style scoped>\n",
       "    .dataframe tbody tr th:only-of-type {\n",
       "        vertical-align: middle;\n",
       "    }\n",
       "\n",
       "    .dataframe tbody tr th {\n",
       "        vertical-align: top;\n",
       "    }\n",
       "\n",
       "    .dataframe thead th {\n",
       "        text-align: right;\n",
       "    }\n",
       "</style>\n",
       "<table border=\"1\" class=\"dataframe\">\n",
       "  <thead>\n",
       "    <tr style=\"text-align: right;\">\n",
       "      <th></th>\n",
       "      <th>FIPS</th>\n",
       "      <th>Rent</th>\n",
       "      <th>Year</th>\n",
       "      <th>coc_number</th>\n",
       "      <th>Houseless_rate</th>\n",
       "      <th>Sheltered_rate</th>\n",
       "      <th>Unsheltered_rate</th>\n",
       "      <th>State</th>\n",
       "      <th>County</th>\n",
       "      <th>TOT_POP</th>\n",
       "      <th>TOT_MALE</th>\n",
       "      <th>TOT_FEMALE</th>\n",
       "      <th>TOT_WHITE</th>\n",
       "      <th>TOT_BLACK</th>\n",
       "      <th>TOT_NATIVE</th>\n",
       "      <th>TOT_ASIAN</th>\n",
       "      <th>TOT_PACIFIC</th>\n",
       "      <th>TOT_LATINX</th>\n",
       "      <th>State/County</th>\n",
       "      <th>FI Rate</th>\n",
       "      <th>Low Threshold Type</th>\n",
       "      <th>High Threshold Type</th>\n",
       "      <th>Cost Per Meal</th>\n",
       "      <th>Num_wholesale</th>\n",
       "      <th>Num_restaraunts</th>\n",
       "      <th>Num_grocery</th>\n",
       "      <th>Total_workforce</th>\n",
       "      <th>Employed</th>\n",
       "      <th>Unemployed</th>\n",
       "      <th>Unemployment_rate</th>\n",
       "    </tr>\n",
       "  </thead>\n",
       "  <tbody>\n",
       "    <tr>\n",
       "      <th>0</th>\n",
       "      <td>01073</td>\n",
       "      <td>1019.995960</td>\n",
       "      <td>2014</td>\n",
       "      <td>AL-500</td>\n",
       "      <td>0.001396</td>\n",
       "      <td>0.000961</td>\n",
       "      <td>0.000435</td>\n",
       "      <td>Alabama</td>\n",
       "      <td>Jefferson County</td>\n",
       "      <td>659972.0</td>\n",
       "      <td>312491.0</td>\n",
       "      <td>347481.0</td>\n",
       "      <td>355635.0</td>\n",
       "      <td>284082.0</td>\n",
       "      <td>2029.0</td>\n",
       "      <td>10378.0</td>\n",
       "      <td>347.0</td>\n",
       "      <td>24099.0</td>\n",
       "      <td>Jefferson County, AL</td>\n",
       "      <td>0.197</td>\n",
       "      <td>SNAP</td>\n",
       "      <td>Other Nutrition Program</td>\n",
       "      <td>2.93</td>\n",
       "      <td>483.0</td>\n",
       "      <td>2693.0</td>\n",
       "      <td>400.0</td>\n",
       "      <td>312131.0</td>\n",
       "      <td>292505.0</td>\n",
       "      <td>19626.0</td>\n",
       "      <td>6.3</td>\n",
       "    </tr>\n",
       "    <tr>\n",
       "      <th>19</th>\n",
       "      <td>01117</td>\n",
       "      <td>1229.755051</td>\n",
       "      <td>2014</td>\n",
       "      <td>AL-500</td>\n",
       "      <td>0.001396</td>\n",
       "      <td>0.000961</td>\n",
       "      <td>0.000435</td>\n",
       "      <td>Alabama</td>\n",
       "      <td>Shelby County</td>\n",
       "      <td>206280.0</td>\n",
       "      <td>100304.0</td>\n",
       "      <td>105976.0</td>\n",
       "      <td>174094.0</td>\n",
       "      <td>24247.0</td>\n",
       "      <td>805.0</td>\n",
       "      <td>4403.0</td>\n",
       "      <td>101.0</td>\n",
       "      <td>11872.0</td>\n",
       "      <td>Shelby County, AL</td>\n",
       "      <td>0.105</td>\n",
       "      <td>SNAP</td>\n",
       "      <td>Other Nutrition Program</td>\n",
       "      <td>3.37</td>\n",
       "      <td>1.0</td>\n",
       "      <td>743.0</td>\n",
       "      <td>2706.0</td>\n",
       "      <td>107208.0</td>\n",
       "      <td>102400.0</td>\n",
       "      <td>4808.0</td>\n",
       "      <td>4.5</td>\n",
       "    </tr>\n",
       "    <tr>\n",
       "      <th>38</th>\n",
       "      <td>04003</td>\n",
       "      <td>1051.250000</td>\n",
       "      <td>2014</td>\n",
       "      <td>AZ-500</td>\n",
       "      <td>0.001469</td>\n",
       "      <td>0.000826</td>\n",
       "      <td>0.000643</td>\n",
       "      <td>Arizona</td>\n",
       "      <td>Cochise County</td>\n",
       "      <td>127314.0</td>\n",
       "      <td>64661.0</td>\n",
       "      <td>62653.0</td>\n",
       "      <td>112238.0</td>\n",
       "      <td>5737.0</td>\n",
       "      <td>2165.0</td>\n",
       "      <td>2757.0</td>\n",
       "      <td>510.0</td>\n",
       "      <td>44374.0</td>\n",
       "      <td>Cochise County, AZ</td>\n",
       "      <td>0.161</td>\n",
       "      <td>SNAP, Other Nutrition Programs</td>\n",
       "      <td>SNAP, Other Nutrition Programs</td>\n",
       "      <td>2.81</td>\n",
       "      <td>800.0</td>\n",
       "      <td>72.0</td>\n",
       "      <td>340.0</td>\n",
       "      <td>50969.0</td>\n",
       "      <td>46682.0</td>\n",
       "      <td>4287.0</td>\n",
       "      <td>8.4</td>\n",
       "    </tr>\n",
       "  </tbody>\n",
       "</table>\n",
       "</div>"
      ],
      "text/plain": [
       "     FIPS         Rent  Year coc_number  Houseless_rate  Sheltered_rate  \\\n",
       "0   01073  1019.995960  2014     AL-500        0.001396        0.000961   \n",
       "19  01117  1229.755051  2014     AL-500        0.001396        0.000961   \n",
       "38  04003  1051.250000  2014     AZ-500        0.001469        0.000826   \n",
       "\n",
       "    Unsheltered_rate    State            County   TOT_POP  TOT_MALE  \\\n",
       "0           0.000435  Alabama  Jefferson County  659972.0  312491.0   \n",
       "19          0.000435  Alabama     Shelby County  206280.0  100304.0   \n",
       "38          0.000643  Arizona    Cochise County  127314.0   64661.0   \n",
       "\n",
       "    TOT_FEMALE  TOT_WHITE  TOT_BLACK  TOT_NATIVE  TOT_ASIAN  TOT_PACIFIC  \\\n",
       "0     347481.0   355635.0   284082.0      2029.0    10378.0        347.0   \n",
       "19    105976.0   174094.0    24247.0       805.0     4403.0        101.0   \n",
       "38     62653.0   112238.0     5737.0      2165.0     2757.0        510.0   \n",
       "\n",
       "    TOT_LATINX          State/County  FI Rate              Low Threshold Type  \\\n",
       "0      24099.0  Jefferson County, AL    0.197                            SNAP   \n",
       "19     11872.0     Shelby County, AL    0.105                            SNAP   \n",
       "38     44374.0    Cochise County, AZ    0.161  SNAP, Other Nutrition Programs   \n",
       "\n",
       "               High Threshold Type  Cost Per Meal  Num_wholesale  \\\n",
       "0          Other Nutrition Program           2.93          483.0   \n",
       "19         Other Nutrition Program           3.37            1.0   \n",
       "38  SNAP, Other Nutrition Programs           2.81          800.0   \n",
       "\n",
       "    Num_restaraunts  Num_grocery  Total_workforce  Employed  Unemployed  \\\n",
       "0            2693.0        400.0         312131.0  292505.0     19626.0   \n",
       "19            743.0       2706.0         107208.0  102400.0      4808.0   \n",
       "38             72.0        340.0          50969.0   46682.0      4287.0   \n",
       "\n",
       "    Unemployment_rate  \n",
       "0                 6.3  \n",
       "19                4.5  \n",
       "38                8.4  "
      ]
     },
     "execution_count": 2,
     "metadata": {},
     "output_type": "execute_result"
    }
   ],
   "source": [
    "with open('../pickled/fully_cleaned_data.pickle', \"rb\") as input_file:\n",
    "    df = pickle.load(input_file) \n",
    "df.head(3)"
   ]
  },
  {
   "cell_type": "markdown",
   "metadata": {},
   "source": [
    "# New Features\n",
    "The following cells create new feature columns, derived from existing features\n",
    "### Demographics Percentage Breakdown\n",
    "Demographic percentage will allow me to compare the demographic breakdown of different counties, while accounting for population density differences"
   ]
  },
  {
   "cell_type": "code",
   "execution_count": 3,
   "metadata": {},
   "outputs": [],
   "source": [
    "df['Percent_male'] = df['TOT_MALE']/df['TOT_POP']\n",
    "df['Percent_female'] = df['TOT_FEMALE']/df['TOT_POP']\n",
    "df['Percent_white'] = df['TOT_WHITE']/df['TOT_POP']\n",
    "df['Percent_Black'] = df['TOT_BLACK']/df['TOT_POP']\n",
    "df['Percent_native'] = df['TOT_NATIVE']/df['TOT_POP']\n",
    "df['Percent_asian'] = df['TOT_ASIAN']/df['TOT_POP']\n",
    "df['Percent_pacific'] = df['TOT_PACIFIC']/df['TOT_POP']\n",
    "df['Percent_latinX'] = df['TOT_LATINX']/df['TOT_POP']"
   ]
  },
  {
   "cell_type": "markdown",
   "metadata": {},
   "source": [
    "### Percentage PoC\n",
    "Percentage of a county that is not white"
   ]
  },
  {
   "cell_type": "code",
   "execution_count": 4,
   "metadata": {},
   "outputs": [],
   "source": [
    "df['Percent_PoC'] = 1-df['Percent_white']"
   ]
  },
  {
   "cell_type": "markdown",
   "metadata": {},
   "source": [
    "### Workforce as a percentage of total population\n",
    "Workforce represented as percentage, so that it can be compared across different counties"
   ]
  },
  {
   "cell_type": "code",
   "execution_count": 5,
   "metadata": {},
   "outputs": [],
   "source": [
    "# percent of population that is working\n",
    "df['Percent_working'] = df['Total_workforce']/df['TOT_POP']\n"
   ]
  },
  {
   "cell_type": "markdown",
   "metadata": {},
   "source": [
    "### Sum of Food Establishments\n",
    "Total number of food retail businesses, which is the sum of the three categories (wholesalers, restaraunts, and grocery stores)"
   ]
  },
  {
   "cell_type": "code",
   "execution_count": 6,
   "metadata": {},
   "outputs": [],
   "source": [
    "df['Total_food_retail'] = df['Num_wholesale']+ df['Num_restaraunts']+df['Num_grocery']"
   ]
  },
  {
   "cell_type": "markdown",
   "metadata": {},
   "source": [
    "### Population divided by number of food establishments \n",
    "Looking at prevalence of food establishments as a function of population - aka how many Food Retail establishments exist per person within a County"
   ]
  },
  {
   "cell_type": "code",
   "execution_count": 7,
   "metadata": {},
   "outputs": [],
   "source": [
    "df['Food_retail_per_person'] = df['Total_food_retail']/df['TOT_POP']\n"
   ]
  },
  {
   "cell_type": "markdown",
   "metadata": {},
   "source": [
    "# Polynomial Features\n",
    "**Note:** Decided to omit polynomial features, because they decreased model performance."
   ]
  },
  {
   "cell_type": "code",
   "execution_count": 8,
   "metadata": {},
   "outputs": [],
   "source": [
    "# only using derived percentages, ignore raw counts\n",
    "continuous_features = ['Rent', 'Houseless_rate','Sheltered_rate', 'Unsheltered_rate', 'TOT_POP',\n",
    "       'Cost Per Meal', 'Num_wholesale','Num_restaraunts', 'Num_grocery',  'Unemployment_rate', 'Percent_male', \n",
    "         'Percent_female','Percent_white', 'Percent_Black', 'Percent_native', 'Percent_asian',\n",
    "       'Percent_pacific', 'Percent_working', 'Total_food_retail','Food_retail_per_person']\n"
   ]
  },
  {
   "cell_type": "code",
   "execution_count": 9,
   "metadata": {
    "scrolled": false
   },
   "outputs": [],
   "source": [
    "## add squared and cubed polynomials for each continuous feature\n",
    "# for feat in continuous_features:\n",
    "#     df[feat+'^2'] = df[feat]**2\n",
    "#     df[feat+'^3'] = df[feat]**3\n"
   ]
  },
  {
   "cell_type": "markdown",
   "metadata": {},
   "source": [
    "# Interaction Features\n",
    "Create an interaction feature for each combination of continuous features, and add best ones to dataframe"
   ]
  },
  {
   "cell_type": "code",
   "execution_count": 10,
   "metadata": {},
   "outputs": [],
   "source": [
    "# Generate combinations of features\n",
    "y = df.dropna()[['FI Rate']]\n",
    "X = df.dropna()[continuous_features]\n",
    "interactions = list(combinations(X.columns, 2))\n",
    "interaction_dict = {}\n",
    "\n",
    "# run simple regression model with each possible interaction, and save R-squared for each interaction in a dictionary\n",
    "for interaction in interactions:\n",
    "    X_copy = X.copy()\n",
    "    X_copy['interact'] = X_copy[interaction[0]] * X_copy[interaction[1]] \n",
    "    X_copy = X_copy.replace([np.inf, -np.inf], 0)\n",
    "    model = LinearRegression()\n",
    "    model.fit(X_copy, y)\n",
    "    interaction_dict[model.score(X_copy, y)] = interaction \n"
   ]
  },
  {
   "cell_type": "markdown",
   "metadata": {},
   "source": [
    "### Add best 50 interactions to dataframe"
   ]
  },
  {
   "cell_type": "code",
   "execution_count": 11,
   "metadata": {},
   "outputs": [],
   "source": [
    "# Sort the interactions dictionary, and add best 50 interactions to dataframe\n",
    "top_interactions = sorted(interaction_dict.keys(), reverse = True)[:50]\n",
    "for interaction in top_interactions:\n",
    "    feature1 = interaction_dict[interaction][0]\n",
    "    feature2 = interaction_dict[interaction][1]\n",
    "    df[feature1+'_X_'+feature2] = df[feature1] * df[feature2] #also add to new_features df\n"
   ]
  },
  {
   "cell_type": "markdown",
   "metadata": {},
   "source": [
    "# Log Transformations\n",
    "Take natural log of each continuous feature, and add these log features to dataframe"
   ]
  },
  {
   "cell_type": "code",
   "execution_count": 12,
   "metadata": {},
   "outputs": [],
   "source": [
    "for feat in continuous_features:\n",
    "    df['log_'+feat] = df[feat].map(lambda x: np.log(x))\n",
    "df = df.replace([np.inf, -np.inf], 0)"
   ]
  },
  {
   "cell_type": "markdown",
   "metadata": {},
   "source": [
    "# Dummy Variables\n",
    "High and Low Threshold programs delineate the assistance programs provided by State"
   ]
  },
  {
   "cell_type": "code",
   "execution_count": 13,
   "metadata": {},
   "outputs": [],
   "source": [
    "# Create dummy variables for high and low threshold programs, and add to dataframe\n",
    "hi_thresh_dummies = pd.get_dummies(df['High Threshold Type'].astype(str), dtype=int)\n",
    "hi_thresh_dummies['other'] = hi_thresh_dummies['Other Nutrition Program'] + hi_thresh_dummies['other nutrition pgm']\n",
    "hi_thresh_dummies.drop(['Other Nutrition Program','other nutrition pgm','nan'],axis=1,inplace=True) # drop last col\n",
    "hi_thresh_dummies.rename(columns = {'SNAP, Other Nutrition Programs': 'SNAP_other'}, inplace=True)\n",
    "hi_thresh_dummies.columns = 'Hi_thresh_'+hi_thresh_dummies.columns\n",
    "\n",
    "low_thresh_dummies = pd.get_dummies(df['Low Threshold Type'].astype(str), dtype=int)\n",
    "low_thresh_dummies.drop('nan', axis=1,inplace=True)\n",
    "low_thresh_dummies.rename(columns = {'SNAP, Other Nutrition Programs': 'SNAP_other'}, inplace=True)\n",
    "low_thresh_dummies.columns = 'Lo_thresh_'+low_thresh_dummies.columns\n",
    "\n",
    "df = pd.concat([df, low_thresh_dummies, hi_thresh_dummies],axis=1)\n"
   ]
  },
  {
   "cell_type": "markdown",
   "metadata": {},
   "source": [
    "### Pickle the new dataframe\n",
    "Save the dataframe with all new features added (demographic percentages, interactions, logs, and dummies)"
   ]
  },
  {
   "cell_type": "code",
   "execution_count": 14,
   "metadata": {},
   "outputs": [],
   "source": [
    "with open('../pickled/feature_engineered_data.pickle', \"wb\") as output_file:\n",
    "    pickle.dump(df, output_file)"
   ]
  },
  {
   "cell_type": "code",
   "execution_count": null,
   "metadata": {},
   "outputs": [],
   "source": []
  }
 ],
 "metadata": {
  "kernelspec": {
   "display_name": "Python 3",
   "language": "python",
   "name": "python3"
  },
  "language_info": {
   "codemirror_mode": {
    "name": "ipython",
    "version": 3
   },
   "file_extension": ".py",
   "mimetype": "text/x-python",
   "name": "python",
   "nbconvert_exporter": "python",
   "pygments_lexer": "ipython3",
   "version": "3.6.9"
  }
 },
 "nbformat": 4,
 "nbformat_minor": 4
}
