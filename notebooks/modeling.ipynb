{
 "cells": [
  {
   "cell_type": "markdown",
   "metadata": {},
   "source": [
    "# Modeling Process\n",
    "## Projecting Food Insecurity Rates in 2020\n",
    "### Khyatee Desai"
   ]
  },
  {
   "cell_type": "code",
   "execution_count": 260,
   "metadata": {},
   "outputs": [],
   "source": [
    "import pandas as pd\n",
    "import numpy as np\n",
    "from itertools import combinations\n",
    "import statistics as stats\n",
    "import scipy.stats\n",
    "import statsmodels.api as sm\n",
    "from statsmodels.formula.api import ols\n",
    "import sklearn\n",
    "from sklearn.feature_selection import RFECV\n",
    "from sklearn.metrics import mean_squared_error\n",
    "from sklearn.linear_model import LinearRegression\n",
    "from sklearn.model_selection import train_test_split\n",
    "from sklearn.feature_selection import SelectKBest, f_regression\n",
    "from statsmodels.stats.outliers_influence import variance_inflation_factor\n",
    "import pickle\n",
    "import warnings\n",
    "warnings.filterwarnings('ignore')\n",
    "pd.set_option('display.max_columns', None)"
   ]
  },
  {
   "cell_type": "markdown",
   "metadata": {},
   "source": [
    "### Import cleaned dataset"
   ]
  },
  {
   "cell_type": "code",
   "execution_count": 292,
   "metadata": {},
   "outputs": [],
   "source": [
    "with open('../pickled/feature_engineered_data.pickle', \"rb\") as input_file:\n",
    "    df = pickle.load(input_file) \n",
    "# remove features not needed for modeling\n",
    "df.drop(['FIPS', 'coc_number','FIPS_state', 'FIPS_county','Low Threshold Type', 'High Threshold Type',\n",
    "       'State', 'County', 'State/County','Weighted Annual Dollars'],axis=1, inplace=True)"
   ]
  },
  {
   "cell_type": "markdown",
   "metadata": {},
   "source": [
    "# Baseline Model\n",
    "### Predicting on 2014 Data"
   ]
  },
  {
   "cell_type": "code",
   "execution_count": 293,
   "metadata": {},
   "outputs": [],
   "source": [
    "# Limit the year and drop null values\n",
    "df_14 = df[df.Year.isin(['2014'])].dropna()\n"
   ]
  },
  {
   "cell_type": "markdown",
   "metadata": {},
   "source": [
    "### Train/Test Split"
   ]
  },
  {
   "cell_type": "code",
   "execution_count": 294,
   "metadata": {},
   "outputs": [],
   "source": [
    "y = df_14['FI Rate']\n",
    "X = df_14.drop([ 'FI Rate','Year'],axis=1)\n",
    "\n",
    "# split into train test sets\n",
    "X_train, X_test, y_train, y_test = train_test_split(X, y)"
   ]
  },
  {
   "cell_type": "markdown",
   "metadata": {},
   "source": [
    "### Model"
   ]
  },
  {
   "cell_type": "code",
   "execution_count": 295,
   "metadata": {},
   "outputs": [
    {
     "name": "stdout",
     "output_type": "stream",
     "text": [
      "R2 Train: 0.6841778432384406\n",
      "R2 Test: 0.44348064380809804\n",
      "RMSE Train: 0.020580236899016023\n",
      "RMSE Test: 0.03705036361169371\n"
     ]
    }
   ],
   "source": [
    "# Instantiate Linear Regression model\n",
    "model_1 = LinearRegression()\n",
    "model_1.fit(X_train, y_train)\n",
    "y_train_pred = model_1.predict(X_train)\n",
    "y_test_pred = model_1.predict(X_test)\n",
    "\n",
    "# R2 of training and test set\n",
    "print('R2 Train:',model_1.score(X_train, y_train))\n",
    "print('R2 Test:',model_1.score(X_test, y_test))\n",
    "\n",
    "# RMSE of training and test set\n",
    "print('RMSE Train:',np.sqrt(mean_squared_error(y_train, y_train_pred)))\n",
    "print('RMSE Test:',np.sqrt(mean_squared_error(y_test, y_test_pred)))"
   ]
  },
  {
   "cell_type": "markdown",
   "metadata": {},
   "source": [
    "### Visually compare predictions"
   ]
  },
  {
   "cell_type": "code",
   "execution_count": 296,
   "metadata": {},
   "outputs": [
    {
     "data": {
      "text/html": [
       "<div>\n",
       "<style scoped>\n",
       "    .dataframe tbody tr th:only-of-type {\n",
       "        vertical-align: middle;\n",
       "    }\n",
       "\n",
       "    .dataframe tbody tr th {\n",
       "        vertical-align: top;\n",
       "    }\n",
       "\n",
       "    .dataframe thead th {\n",
       "        text-align: right;\n",
       "    }\n",
       "</style>\n",
       "<table border=\"1\" class=\"dataframe\">\n",
       "  <thead>\n",
       "    <tr style=\"text-align: right;\">\n",
       "      <th></th>\n",
       "      <th>FI Rate</th>\n",
       "      <th>Y Test Preds</th>\n",
       "    </tr>\n",
       "  </thead>\n",
       "  <tbody>\n",
       "    <tr>\n",
       "      <th>9</th>\n",
       "      <td>0.072</td>\n",
       "      <td>0.060123</td>\n",
       "    </tr>\n",
       "    <tr>\n",
       "      <th>12</th>\n",
       "      <td>0.116</td>\n",
       "      <td>0.086114</td>\n",
       "    </tr>\n",
       "    <tr>\n",
       "      <th>7</th>\n",
       "      <td>0.087</td>\n",
       "      <td>0.099791</td>\n",
       "    </tr>\n",
       "    <tr>\n",
       "      <th>0</th>\n",
       "      <td>0.162</td>\n",
       "      <td>0.171379</td>\n",
       "    </tr>\n",
       "    <tr>\n",
       "      <th>31</th>\n",
       "      <td>0.164</td>\n",
       "      <td>0.154204</td>\n",
       "    </tr>\n",
       "    <tr>\n",
       "      <th>33</th>\n",
       "      <td>0.063</td>\n",
       "      <td>0.098073</td>\n",
       "    </tr>\n",
       "    <tr>\n",
       "      <th>6</th>\n",
       "      <td>0.220</td>\n",
       "      <td>0.242603</td>\n",
       "    </tr>\n",
       "    <tr>\n",
       "      <th>2</th>\n",
       "      <td>0.172</td>\n",
       "      <td>0.164796</td>\n",
       "    </tr>\n",
       "    <tr>\n",
       "      <th>25</th>\n",
       "      <td>0.196</td>\n",
       "      <td>0.178537</td>\n",
       "    </tr>\n",
       "    <tr>\n",
       "      <th>19</th>\n",
       "      <td>0.094</td>\n",
       "      <td>0.080822</td>\n",
       "    </tr>\n",
       "  </tbody>\n",
       "</table>\n",
       "</div>"
      ],
      "text/plain": [
       "    FI Rate  Y Test Preds\n",
       "9     0.072      0.060123\n",
       "12    0.116      0.086114\n",
       "7     0.087      0.099791\n",
       "0     0.162      0.171379\n",
       "31    0.164      0.154204\n",
       "33    0.063      0.098073\n",
       "6     0.220      0.242603\n",
       "2     0.172      0.164796\n",
       "25    0.196      0.178537\n",
       "19    0.094      0.080822"
      ]
     },
     "execution_count": 296,
     "metadata": {},
     "output_type": "execute_result"
    }
   ],
   "source": [
    "test_set = pd.concat([X_test, y_test],axis=1).reset_index()\n",
    "df_preds = pd.concat([test_set,pd.Series(y_test_pred)],axis=1).rename(columns={0:'Y Test Preds'})\n",
    "df_preds[['FI Rate','Y Test Preds']].sample(10)"
   ]
  },
  {
   "cell_type": "markdown",
   "metadata": {},
   "source": [
    "### Inspect Feature Importance"
   ]
  },
  {
   "cell_type": "code",
   "execution_count": 297,
   "metadata": {},
   "outputs": [
    {
     "data": {
      "text/plain": [
       "[(0.4174887052915988, 'Percent_Black^2'),\n",
       " (0.2625770188476204, 'Percent_native'),\n",
       " (0.256295665649392, 'Cost Per Meal'),\n",
       " (0.13336683062404744, 'Percent_female'),\n",
       " (0.1332944664294207, 'Percent_female^2'),\n",
       " (0.10689343884101841, 'Percent_white'),\n",
       " (0.08259992566204633, 'Percent_pacific'),\n",
       " (0.045386897772676564, 'Sheltered_rate'),\n",
       " (0.012718811700125903, 'Percent_native^2'),\n",
       " (0.0007435516436294234, 'Unemployment_rate^2')]"
      ]
     },
     "execution_count": 297,
     "metadata": {},
     "output_type": "execute_result"
    }
   ],
   "source": [
    "sorted(list(zip(model_1.coef_.tolist(), X_test.columns)), reverse=True)[:10]"
   ]
  },
  {
   "cell_type": "markdown",
   "metadata": {},
   "source": [
    "# Feature Selection"
   ]
  },
  {
   "cell_type": "code",
   "execution_count": 298,
   "metadata": {},
   "outputs": [
    {
     "data": {
      "text/plain": [
       "Index(['Rent', 'Year', 'Houseless_rate', 'Sheltered_rate', 'Unsheltered_rate',\n",
       "       'TOT_POP', 'TOT_MALE', 'TOT_FEMALE', 'TOT_WHITE', 'TOT_BLACK',\n",
       "       'TOT_NATIVE', 'TOT_ASIAN', 'TOT_PACIFIC', 'FI Rate', 'Cost Per Meal',\n",
       "       'Num_wholesale', 'Num_restaraunts', 'Num_grocery', 'Total_workforce',\n",
       "       'Employed', 'Unemployed', 'Unemployment_rate', 'Percent_male',\n",
       "       'Percent_female', 'Percent_white', 'Percent_Black', 'Percent_native',\n",
       "       'Percent_asian', 'Percent_pacific', 'Percent_working',\n",
       "       'Total_food_retail', 'Food_retail_per_person', 'Rent^2',\n",
       "       'Houseless_rate^2', 'Sheltered_rate^2', 'Unsheltered_rate^2',\n",
       "       'TOT_POP^2', 'Cost Per Meal^2', 'Num_wholesale^2', 'Num_restaraunts^2',\n",
       "       'Num_grocery^2', 'Unemployment_rate^2', 'Percent_male^2',\n",
       "       'Percent_female^2', 'Percent_white^2', 'Percent_Black^2',\n",
       "       'Percent_native^2', 'Percent_asian^2', 'Percent_pacific^2',\n",
       "       'Percent_working^2', 'Total_food_retail^2', 'Food_retail_per_person^2'],\n",
       "      dtype='object')"
      ]
     },
     "execution_count": 298,
     "metadata": {},
     "output_type": "execute_result"
    }
   ],
   "source": [
    "df.columns"
   ]
  },
  {
   "cell_type": "markdown",
   "metadata": {},
   "source": [
    "## Multicollinearity \n",
    "### Inspect correlation between each feature pair"
   ]
  },
  {
   "cell_type": "code",
   "execution_count": 194,
   "metadata": {},
   "outputs": [
    {
     "data": {
      "text/html": [
       "<div>\n",
       "<style scoped>\n",
       "    .dataframe tbody tr th:only-of-type {\n",
       "        vertical-align: middle;\n",
       "    }\n",
       "\n",
       "    .dataframe tbody tr th {\n",
       "        vertical-align: top;\n",
       "    }\n",
       "\n",
       "    .dataframe thead th {\n",
       "        text-align: right;\n",
       "    }\n",
       "</style>\n",
       "<table border=\"1\" class=\"dataframe\">\n",
       "  <thead>\n",
       "    <tr style=\"text-align: right;\">\n",
       "      <th></th>\n",
       "      <th>correlation</th>\n",
       "      <th>pairs</th>\n",
       "    </tr>\n",
       "  </thead>\n",
       "  <tbody>\n",
       "    <tr>\n",
       "      <th>22328</th>\n",
       "      <td>1.000000</td>\n",
       "      <td>(log_Percent_female, Percent_male^2)</td>\n",
       "    </tr>\n",
       "    <tr>\n",
       "      <th>8041</th>\n",
       "      <td>1.000000</td>\n",
       "      <td>(Percent_male^2, log_Percent_female)</td>\n",
       "    </tr>\n",
       "    <tr>\n",
       "      <th>22172</th>\n",
       "      <td>1.000000</td>\n",
       "      <td>(log_Percent_male, Percent_female^2)</td>\n",
       "    </tr>\n",
       "    <tr>\n",
       "      <th>8356</th>\n",
       "      <td>1.000000</td>\n",
       "      <td>(Percent_female^2, log_Percent_male)</td>\n",
       "    </tr>\n",
       "    <tr>\n",
       "      <th>793</th>\n",
       "      <td>0.999947</td>\n",
       "      <td>(TOT_FEMALE, TOT_POP)</td>\n",
       "    </tr>\n",
       "    <tr>\n",
       "      <th>...</th>\n",
       "      <td>...</td>\n",
       "      <td>...</td>\n",
       "    </tr>\n",
       "    <tr>\n",
       "      <th>11634</th>\n",
       "      <td>0.951710</td>\n",
       "      <td>(Houseless_rate_X_Percent_female, Houseless_ra...</td>\n",
       "    </tr>\n",
       "    <tr>\n",
       "      <th>7845</th>\n",
       "      <td>0.950336</td>\n",
       "      <td>(Unemployment_rate^3, Unemployment_rate_X_Perc...</td>\n",
       "    </tr>\n",
       "    <tr>\n",
       "      <th>16323</th>\n",
       "      <td>0.950336</td>\n",
       "      <td>(Unemployment_rate_X_Percent_male, Unemploymen...</td>\n",
       "    </tr>\n",
       "    <tr>\n",
       "      <th>7307</th>\n",
       "      <td>0.950220</td>\n",
       "      <td>(Num_grocery^2, TOT_POP^3)</td>\n",
       "    </tr>\n",
       "    <tr>\n",
       "      <th>6208</th>\n",
       "      <td>0.950220</td>\n",
       "      <td>(TOT_POP^3, Num_grocery^2)</td>\n",
       "    </tr>\n",
       "  </tbody>\n",
       "</table>\n",
       "<p>522 rows × 2 columns</p>\n",
       "</div>"
      ],
      "text/plain": [
       "       correlation                                              pairs\n",
       "22328     1.000000               (log_Percent_female, Percent_male^2)\n",
       "8041      1.000000               (Percent_male^2, log_Percent_female)\n",
       "22172     1.000000               (log_Percent_male, Percent_female^2)\n",
       "8356      1.000000               (Percent_female^2, log_Percent_male)\n",
       "793       0.999947                              (TOT_FEMALE, TOT_POP)\n",
       "...            ...                                                ...\n",
       "11634     0.951710  (Houseless_rate_X_Percent_female, Houseless_ra...\n",
       "7845      0.950336  (Unemployment_rate^3, Unemployment_rate_X_Perc...\n",
       "16323     0.950336  (Unemployment_rate_X_Percent_male, Unemploymen...\n",
       "7307      0.950220                         (Num_grocery^2, TOT_POP^3)\n",
       "6208      0.950220                         (TOT_POP^3, Num_grocery^2)\n",
       "\n",
       "[522 rows x 2 columns]"
      ]
     },
     "execution_count": 194,
     "metadata": {},
     "output_type": "execute_result"
    }
   ],
   "source": [
    "corr=df_14.iloc[:,1:].corr().abs().stack().reset_index().sort_values(0, ascending=False)\n",
    "corr['pairs'] = list(zip(corr.level_0, corr.level_1))\n",
    "corr.drop(columns=['level_1', 'level_0'], inplace = True)\n",
    "corr.columns = ['correlation', 'pairs']\n",
    "corr.drop_duplicates(inplace=True)\n",
    "corr[(corr.correlation >0.95) & (corr.correlation <1.0)]"
   ]
  },
  {
   "cell_type": "markdown",
   "metadata": {},
   "source": [
    "### VIF Scores"
   ]
  },
  {
   "cell_type": "code",
   "execution_count": 195,
   "metadata": {
    "scrolled": true
   },
   "outputs": [
    {
     "data": {
      "text/html": [
       "<div>\n",
       "<style scoped>\n",
       "    .dataframe tbody tr th:only-of-type {\n",
       "        vertical-align: middle;\n",
       "    }\n",
       "\n",
       "    .dataframe tbody tr th {\n",
       "        vertical-align: top;\n",
       "    }\n",
       "\n",
       "    .dataframe thead th {\n",
       "        text-align: right;\n",
       "    }\n",
       "</style>\n",
       "<table border=\"1\" class=\"dataframe\">\n",
       "  <thead>\n",
       "    <tr style=\"text-align: right;\">\n",
       "      <th></th>\n",
       "      <th>VIF Factor</th>\n",
       "      <th>features</th>\n",
       "    </tr>\n",
       "  </thead>\n",
       "  <tbody>\n",
       "    <tr>\n",
       "      <th>1</th>\n",
       "      <td>1.200622</td>\n",
       "      <td>Houseless_rate</td>\n",
       "    </tr>\n",
       "    <tr>\n",
       "      <th>2</th>\n",
       "      <td>1.151213</td>\n",
       "      <td>Sheltered_rate</td>\n",
       "    </tr>\n",
       "    <tr>\n",
       "      <th>3</th>\n",
       "      <td>1.228337</td>\n",
       "      <td>Unsheltered_rate</td>\n",
       "    </tr>\n",
       "    <tr>\n",
       "      <th>8</th>\n",
       "      <td>6.506567</td>\n",
       "      <td>TOT_BLACK</td>\n",
       "    </tr>\n",
       "    <tr>\n",
       "      <th>11</th>\n",
       "      <td>1.446111</td>\n",
       "      <td>TOT_PACIFIC</td>\n",
       "    </tr>\n",
       "    <tr>\n",
       "      <th>...</th>\n",
       "      <td>...</td>\n",
       "      <td>...</td>\n",
       "    </tr>\n",
       "    <tr>\n",
       "      <th>154</th>\n",
       "      <td>1.148876</td>\n",
       "      <td>Hi_thresh_other</td>\n",
       "    </tr>\n",
       "    <tr>\n",
       "      <th>155</th>\n",
       "      <td>1.148876</td>\n",
       "      <td>Lo_thresh_SNAP</td>\n",
       "    </tr>\n",
       "    <tr>\n",
       "      <th>156</th>\n",
       "      <td>1.543336</td>\n",
       "      <td>Lo_thresh_SNAP_other</td>\n",
       "    </tr>\n",
       "    <tr>\n",
       "      <th>158</th>\n",
       "      <td>1.543341</td>\n",
       "      <td>Hi_thresh_SNAP_other</td>\n",
       "    </tr>\n",
       "    <tr>\n",
       "      <th>159</th>\n",
       "      <td>1.148866</td>\n",
       "      <td>Hi_thresh_other</td>\n",
       "    </tr>\n",
       "  </tbody>\n",
       "</table>\n",
       "<p>122 rows × 2 columns</p>\n",
       "</div>"
      ],
      "text/plain": [
       "     VIF Factor              features\n",
       "1      1.200622        Houseless_rate\n",
       "2      1.151213        Sheltered_rate\n",
       "3      1.228337      Unsheltered_rate\n",
       "8      6.506567             TOT_BLACK\n",
       "11     1.446111           TOT_PACIFIC\n",
       "..          ...                   ...\n",
       "154    1.148876       Hi_thresh_other\n",
       "155    1.148876        Lo_thresh_SNAP\n",
       "156    1.543336  Lo_thresh_SNAP_other\n",
       "158    1.543341  Hi_thresh_SNAP_other\n",
       "159    1.148866       Hi_thresh_other\n",
       "\n",
       "[122 rows x 2 columns]"
      ]
     },
     "execution_count": 195,
     "metadata": {},
     "output_type": "execute_result"
    }
   ],
   "source": [
    "from statsmodels.stats.outliers_influence import variance_inflation_factor\n",
    "vif = pd.DataFrame()\n",
    "vif[\"VIF Factor\"] = [variance_inflation_factor(X_train.values, i) for i in range(X_train.shape[1])]\n",
    "vif[\"features\"] = X_train.columns\n",
    "vif_features = vif[vif['VIF Factor'] <10]['features']\n",
    "vif[vif['VIF Factor'] <10]"
   ]
  },
  {
   "cell_type": "code",
   "execution_count": 196,
   "metadata": {},
   "outputs": [
    {
     "name": "stdout",
     "output_type": "stream",
     "text": [
      "0.9732181135710488\n",
      "-1.4045687792261732\n"
     ]
    }
   ],
   "source": [
    "# Observe model performance using only features with low VIF\n",
    "model_2 = LinearRegression()\n",
    "model_2.fit(X_train[vif_features], y_train)\n",
    "print(model_2.score(X_train[vif_features],y_train))      \n",
    "print(model_2.score(X_test[vif_features],y_test)) "
   ]
  },
  {
   "cell_type": "markdown",
   "metadata": {},
   "source": [
    "## K-Best Selector"
   ]
  },
  {
   "cell_type": "code",
   "execution_count": 280,
   "metadata": {},
   "outputs": [],
   "source": [
    "##### Testing which new features actually help using K-Best:\n",
    "\n",
    "## logs, interactions, dummies, and polynomials\n",
    "# 6 0.6367829435769585\n",
    "# 67 0.6724308721192602\n",
    "# 68 0.6717160388094252\n",
    "\n",
    "## logs, interactions, dummies \n",
    "# 16 0.7093947909784664\n",
    "\n",
    "## interactions, dummies\n",
    "# 42 0.792299764536843\n",
    "\n",
    "## only dummies\n",
    "# 10 0.7028965054037627\n",
    "\n",
    "## no new features\n",
    "# 10 0.5810599662789913\n",
    "\n",
    "## only cubed polynomials\n",
    "# 24 0.7765248697200026\n",
    "#\n",
    "## only squared polynomials\n",
    "# 19 0.8136274183604031\n",
    "#\n",
    "#\n",
    "#\n",
    "# notes:\n",
    "# \n",
    "#\n",
    "#"
   ]
  },
  {
   "cell_type": "code",
   "execution_count": 299,
   "metadata": {
    "scrolled": false
   },
   "outputs": [
    {
     "name": "stdout",
     "output_type": "stream",
     "text": [
      "1 0.4364024601805663\n",
      "2 0.4847462777605742\n",
      "3 0.4866224230408247\n",
      "4 0.48548017906013674\n",
      "5 0.569651028859846\n",
      "6 0.5411742665618392\n",
      "7 0.6668203682147517\n",
      "8 0.6550962914922812\n",
      "9 0.654949603388506\n",
      "10 0.6347415390826272\n",
      "11 0.6347415390826321\n",
      "12 0.6347415390823916\n",
      "13 0.6777783759292214\n",
      "14 0.6502099155988934\n",
      "15 0.72292573888833\n",
      "16 0.7916975775692484\n",
      "17 0.7878319307598227\n",
      "18 0.7878319450585183\n",
      "19 0.8136274183604031\n",
      "20 0.7928131807124577\n",
      "21 0.767469325968424\n",
      "22 0.753924793815939\n",
      "23 0.7509444428275723\n",
      "24 0.7555788414693709\n",
      "25 0.7645115950187072\n",
      "26 0.7486866652892701\n",
      "27 0.7350373994230412\n",
      "28 0.7126994627113635\n",
      "29 0.7104320136418439\n",
      "30 0.718509578383335\n",
      "31 0.6864875219461892\n",
      "32 0.6864875170307894\n",
      "33 0.6472107443994342\n",
      "34 0.6130387365841294\n",
      "35 0.5698685719409632\n",
      "36 0.49596140735919836\n",
      "37 0.495110757019657\n",
      "38 0.5093051291170487\n",
      "39 0.4493783202728173\n",
      "40 -0.469400900653802\n",
      "41 0.16664710531379656\n",
      "42 0.27791598358015845\n",
      "43 0.2637713927501496\n",
      "44 0.2876738086829671\n",
      "45 0.4528058016686073\n",
      "46 -0.08481095616269152\n",
      "47 -0.19952123094707308\n",
      "48 0.4435277001100373\n",
      "49 0.44343288044211404\n"
     ]
    }
   ],
   "source": [
    "# determine optimal k with a loop \n",
    "\n",
    "for k in range(1, 50):\n",
    "    selector = SelectKBest(f_regression, k=k)\n",
    "    selector.fit(X_train, y_train)\n",
    "    kbest_features = X_train.columns[selector.get_support()]\n",
    "    model_3 = LinearRegression()\n",
    "    model_3.fit(X_train[kbest_features], y_train)\n",
    "    y_test_pred = model_3.predict(X_test[kbest_features])\n",
    "    print(k, model_3.score(X_test[kbest_features],y_test))"
   ]
  },
  {
   "cell_type": "code",
   "execution_count": 291,
   "metadata": {
    "scrolled": true
   },
   "outputs": [
    {
     "name": "stdout",
     "output_type": "stream",
     "text": [
      "R2 Train: 0.7603503561334701\n",
      "R2 Test: 0.7765248697200026\n",
      "RMSE Train: 0.018519824642181614\n",
      "RMSE Test: 0.020066037333178407\n"
     ]
    },
    {
     "data": {
      "text/plain": [
       "Index(['Rent', 'Houseless_rate', 'Sheltered_rate', 'Unsheltered_rate',\n",
       "       'TOT_BLACK', 'TOT_NATIVE', 'Unemployed', 'Unemployment_rate',\n",
       "       'Percent_male', 'Percent_female', 'Percent_white', 'Percent_Black',\n",
       "       'Percent_native', 'Percent_working', 'Food_retail_per_person', 'Rent^3',\n",
       "       'Num_wholesale^3', 'Unemployment_rate^3', 'Percent_male^3',\n",
       "       'Percent_female^3', 'Percent_white^3', 'Percent_Black^3',\n",
       "       'Percent_native^3', 'Percent_working^3'],\n",
       "      dtype='object')"
      ]
     },
     "execution_count": 291,
     "metadata": {},
     "output_type": "execute_result"
    }
   ],
   "source": [
    "# run model with best 88 features\n",
    "selector = SelectKBest(f_regression, k=24)\n",
    "selector.fit(X_train, y_train)\n",
    "kbest_features = X_train.columns[selector.get_support()]\n",
    "\n",
    "model_3 = LinearRegression()\n",
    "model_3.fit(X_train[kbest_features], y_train)\n",
    "y_train_pred = model_3.predict(X_train[kbest_features])\n",
    "y_test_pred = model_3.predict(X_test[kbest_features])\n",
    "\n",
    "# R2 of training and test set\n",
    "print('R2 Train:',model_3.score(X_train[kbest_features], y_train))\n",
    "print('R2 Test:',model_3.score(X_test[kbest_features], y_test))\n",
    "\n",
    "# RMSE of training and test set\n",
    "print('RMSE Train:',np.sqrt(mean_squared_error(y_train, y_train_pred)))\n",
    "print('RMSE Test:',np.sqrt(mean_squared_error(y_test, y_test_pred)))\n",
    "kbest_features"
   ]
  },
  {
   "cell_type": "code",
   "execution_count": null,
   "metadata": {},
   "outputs": [],
   "source": []
  },
  {
   "cell_type": "markdown",
   "metadata": {},
   "source": [
    "## Recursive Feature Elimination"
   ]
  },
  {
   "cell_type": "code",
   "execution_count": 272,
   "metadata": {},
   "outputs": [],
   "source": [
    "ols = LinearRegression()\n",
    "selector = RFECV(estimator=ols, step=1, cv=5, scoring='neg_mean_squared_error', n_jobs=-1)\n",
    "selector.fit(X_train, y_train)\n",
    "rfe_features = X_train.columns[selector.support_]"
   ]
  },
  {
   "cell_type": "code",
   "execution_count": 273,
   "metadata": {},
   "outputs": [
    {
     "name": "stdout",
     "output_type": "stream",
     "text": [
      "R2 Train: 0.768717018926482\n",
      "R2 Test: 0.6543222806901482\n",
      "RMSE Train: 0.019911894109678422\n",
      "RMSE Test: 0.021716092787100856\n"
     ]
    }
   ],
   "source": [
    "model_4 = LinearRegression()\n",
    "model_4.fit(X_train[rfe_features], y_train)\n",
    "y_train_pred = model_4.predict(X_train[rfe_features])\n",
    "y_test_pred = model_4.predict(X_test[rfe_features])\n",
    "\n",
    "# R2 of training and test set\n",
    "print('R2 Train:',model_4.score(X_train[rfe_features], y_train))\n",
    "print('R2 Test:',model_4.score(X_test[rfe_features], y_test))\n",
    "\n",
    "# RMSE of training and test set\n",
    "print('RMSE Train:',np.sqrt(mean_squared_error(y_train, y_train_pred)))\n",
    "print('RMSE Test:',np.sqrt(mean_squared_error(y_test, y_test_pred)))"
   ]
  },
  {
   "cell_type": "code",
   "execution_count": null,
   "metadata": {},
   "outputs": [],
   "source": []
  }
 ],
 "metadata": {
  "kernelspec": {
   "display_name": "Python 3",
   "language": "python",
   "name": "python3"
  },
  "language_info": {
   "codemirror_mode": {
    "name": "ipython",
    "version": 3
   },
   "file_extension": ".py",
   "mimetype": "text/x-python",
   "name": "python",
   "nbconvert_exporter": "python",
   "pygments_lexer": "ipython3",
   "version": "3.6.9"
  }
 },
 "nbformat": 4,
 "nbformat_minor": 4
}
